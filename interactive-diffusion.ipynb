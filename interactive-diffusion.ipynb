{
 "cells": [
  {
   "cell_type": "code",
   "execution_count": 3,
   "metadata": {},
   "outputs": [],
   "source": [
    "import numpy as np\n",
    "import matplotlib.pyplot as plt\n",
    "import itertools\n",
    "# import seaborn as sb"
   ]
  },
  {
   "cell_type": "code",
   "execution_count": 10,
   "metadata": {},
   "outputs": [],
   "source": [
    "def AckleyProblem(xs):\n",
    "    a = np.exp(-0.2 * np.sqrt(1./len(xs) * np.square(np.linalg.norm(xs, axis=0))))\n",
    "    b = - np.exp(1./len(xs) * np.sum(np.cos(2*np.pi*xs), axis=0))\n",
    "    return -20 * a + b + 20 + np.exp(1)\n",
    "\n",
    "def GradAckleyProblem(xs):\n",
    "    \"\"\"del H/del xi = -20 * -0.2 * xi / sqrt(1/n sum_j xj) * a + 2 pi sin(2 pi xi)/n * b\"\"\"\n",
    "    a = np.exp(-0.2 * np.sqrt(1./len(xs) * np.square(np.linalg.norm(xs, axis=0))))\n",
    "    b = - np.exp(1./len(xs) * np.sum(np.cos(2*np.pi*xs), axis=0))\n",
    "    a_p = -0.2 * xs / np.sqrt(1./len(xs) * np.square(np.linalg.norm(xs, axis=0)))\n",
    "    print(a_p)\n",
    "    b_p = 2 * np.pi * np.sin(2 * np.pi * xs)/len(xs)\n",
    "    return -20 * a_p * a + b_p * b\n",
    "    "
   ]
  },
  {
   "cell_type": "code",
   "execution_count": 24,
   "metadata": {},
   "outputs": [
    {
     "data": {
      "text/plain": [
       "array([[0.        , 2.        ],\n",
       "       [2.        , 2.82842712]])"
      ]
     },
     "execution_count": 24,
     "metadata": {},
     "output_type": "execute_result"
    }
   ],
   "source": [
    "xs = np.linspace(0, 2, 2)\n",
    "ys = np.linspace(0, 2, 2)\n",
    "\n",
    "inp = np.array(np.meshgrid(xs, ys))\n",
    "np.linalg.norm(inp, axis=0)\n",
    "\n",
    "# grads = GradAckleyProblem(inp)"
   ]
  },
  {
   "cell_type": "code",
   "execution_count": 23,
   "metadata": {},
   "outputs": [
    {
     "data": {
      "text/plain": [
       "array([[[0., 2.],\n",
       "        [0., 2.]],\n",
       "\n",
       "       [[0., 0.],\n",
       "        [2., 2.]]])"
      ]
     },
     "execution_count": 23,
     "metadata": {},
     "output_type": "execute_result"
    }
   ],
   "source": [
    "inp"
   ]
  },
  {
   "cell_type": "code",
   "execution_count": 29,
   "metadata": {},
   "outputs": [],
   "source": [
    "# xs = np.linspace(-100, 1000, 10000)\n",
    "# ys = np.linspace(-100, 1000, 10000)\n",
    "\n",
    "xs = np.linspace(0, 10, 100)\n",
    "ys = np.linspace(0, 10, 100)\n",
    "\n",
    "inp = np.array(np.meshgrid(xs, ys))"
   ]
  },
  {
   "cell_type": "code",
   "execution_count": 30,
   "metadata": {},
   "outputs": [
    {
     "data": {
      "image/png": "[encoded data removed]",
      "text/plain": [
       "<Figure size 432x288 with 1 Axes>"
      ]
     },
     "metadata": {
      "needs_background": "light"
     },
     "output_type": "display_data"
    }
   ],
   "source": [
    "out = AckleyProblem(inp)\n",
    "\n",
    "\n",
    "plt.imshow(out, cmap='hot', interpolation='nearest')\n",
    "plt.show()"
   ]
  },
  {
   "cell_type": "code",
   "execution_count": 7,
   "metadata": {},
   "outputs": [
    {
     "name": "stderr",
     "output_type": "stream",
     "text": [
      "/usr/local/lib/python3.6/dist-packages/ipykernel_launcher.py:10: RuntimeWarning: invalid value encountered in true_divide\n",
      "  # Remove the CWD from sys.path while we load stuff.\n"
     ]
    }
   ],
   "source": []
  },
  {
   "cell_type": "code",
   "execution_count": 1,
   "metadata": {},
   "outputs": [],
   "source": [
    "def grad_descent(func, grad_func, x_curr, eps):\n",
    "    x_curr = np.array(x_curr)\n",
    "    while True:\n",
    "        x_next = x_curr - grad_func([x_curr])\n",
    "        if np.abs(func(np.array([x_next])) - func(np.array([x_curr]))) < eps:\n",
    "            break\n",
    "        x_curr = x_next\n",
    "    return x_curr     "
   ]
  },
  {
   "cell_type": "code",
   "execution_count": null,
   "metadata": {},
   "outputs": [],
   "source": []
  }
 ],
 "metadata": {
  "kernelspec": {
   "display_name": "Python 3",
   "language": "python",
   "name": "python3"
  },
  "language_info": {
   "codemirror_mode": {
    "name": "ipython",
    "version": 3
   },
   "file_extension": ".py",
   "mimetype": "text/x-python",
   "name": "python",
   "nbconvert_exporter": "python",
   "pygments_lexer": "ipython3",
   "version": "3.6.8"
  }
 },
 "nbformat": 4,
 "nbformat_minor": 2
}
