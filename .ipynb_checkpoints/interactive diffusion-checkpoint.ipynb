{
 "cells": [
  {
   "cell_type": "code",
   "execution_count": 1,
   "metadata": {},
   "outputs": [],
   "source": [
    "from Functions import *\n",
    "from Optimizations import *\n",
    "from Saving import *\n",
    "\n",
    "import numpy as np"
   ]
  },
  {
   "cell_type": "code",
   "execution_count": 67,
   "metadata": {},
   "outputs": [],
   "source": [
    "def create_animation_density_pictures(paths):\n",
    "    \"\"\"\n",
    "    Assume all paths have same length\"\"\"\n",
    "    if not os.path.isdir(\"./tmp\"):\n",
    "        os.mkdir(\"./tmp\")\n",
    "    ani_path = \"./tmp/density_{}\".format(time.time())\n",
    "    os.mkdir(ani_path)\n",
    "\n",
    "    for i in range(len(paths[0])):\n",
    "        fig, ax = plt.subplots()\n",
    "        ax.set_xlim(-25, 25)\n",
    "        ax.set_ylim(-25, 25)\n",
    "        ax.plot(paths[:, i, 0, :], paths[:, i, 1, :], \"o\")\n",
    "\n",
    "        plt.savefig(ani_path + \"/{}.png\".format(i))\n",
    "    return ani_path"
   ]
  },
  {
   "cell_type": "code",
   "execution_count": 2,
   "metadata": {},
   "outputs": [],
   "source": [
    "%load_ext autoreload\n",
    "%autoreload 1"
   ]
  },
  {
   "cell_type": "code",
   "execution_count": 75,
   "metadata": {},
   "outputs": [],
   "source": [
    "def gamma(t):\n",
    "    return 0.5/((t // 25) + 1)\n",
    "\n",
    "def temperature(t):\n",
    "    return 1/((t // 25) + 1)"
   ]
  },
  {
   "cell_type": "code",
   "execution_count": 76,
   "metadata": {},
   "outputs": [],
   "source": [
    "# A = np.array([[1, 0], [0, 1]])\n",
    "# b = 0\n",
    "# f = QuadraticFunctionInit(A, b)\n",
    "# f_grad = GradQuadraticFunctionInit(A)\n",
    "\n",
    "f = AckleyProblem\n",
    "f_grad = GradAckleyProblem\n"
   ]
  },
  {
   "cell_type": "code",
   "execution_count": null,
   "metadata": {},
   "outputs": [],
   "source": [
    "paths = []\n",
    "for i in range(1000):\n",
    "    x_start = np.array([[10 * np.random.uniform(-1, 1)], [10 * np.random.uniform(-1, 1)]])\n",
    "    path = simulated_annealing_janky(f, f_grad, x_start, 1e-7, gamma, temperature, start_t=0 , end_t=250)\n",
    "    paths.append(path)"
   ]
  },
  {
   "cell_type": "code",
   "execution_count": null,
   "metadata": {},
   "outputs": [],
   "source": [
    "ani_path = create_animation_density_pictures(np.array(paths))"
   ]
  },
  {
   "cell_type": "code",
   "execution_count": null,
   "metadata": {},
   "outputs": [],
   "source": [
    "create_animation(ani_path, \"test.mp4\", framerate=22)"
   ]
  },
  {
   "cell_type": "code",
   "execution_count": null,
   "metadata": {},
   "outputs": [],
   "source": []
  },
  {
   "cell_type": "code",
   "execution_count": null,
   "metadata": {},
   "outputs": [],
   "source": []
  }
 ],
 "metadata": {
  "kernelspec": {
   "display_name": "Python 3",
   "language": "python",
   "name": "python3"
  },
  "language_info": {
   "codemirror_mode": {
    "name": "ipython",
    "version": 3
   },
   "file_extension": ".py",
   "mimetype": "text/x-python",
   "name": "python",
   "nbconvert_exporter": "python",
   "pygments_lexer": "ipython3",
   "version": "3.6.8"
  }
 },
 "nbformat": 4,
 "nbformat_minor": 2
}
